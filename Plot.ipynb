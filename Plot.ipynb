{
 "cells": [
  {
   "cell_type": "code",
   "execution_count": 25,
   "metadata": {},
   "outputs": [],
   "source": [
    "import argparse\n",
    "\n",
    "import torch\n",
    "\n",
    "from accelerate import Accelerator, DeepSpeedPlugin\n",
    "\n",
    "from accelerate import DistributedDataParallelKwargs\n",
    "\n",
    "from torch import nn, optim\n",
    "\n",
    "from torch.optim import lr_scheduler\n",
    "\n",
    "from tqdm import tqdm\n",
    "\n",
    "\n",
    "\n",
    "from models import Autoformer, DLinear, TimeLLM\n",
    "\n",
    "\n",
    "\n",
    "from data_provider.data_factory import data_provider\n",
    "\n",
    "import time\n",
    "\n",
    "import random\n",
    "\n",
    "import numpy as np\n",
    "\n",
    "import os\n",
    "\n",
    "\n",
    "\n",
    "os.environ['CURL_CA_BUNDLE'] = ''\n",
    "\n",
    "os.environ[\"PYTORCH_CUDA_ALLOC_CONF\"] = \"max_split_size_mb:64\"\n",
    "\n",
    "\n",
    "\n",
    "from utils.tools import del_files, EarlyStopping, adjust_learning_rate, vali, load_content\n",
    "\n",
    "\n",
    "fix_seed = 2021\n",
    "\n",
    "random.seed(fix_seed)\n",
    "\n",
    "torch.manual_seed(fix_seed)\n",
    "\n",
    "np.random.seed(fix_seed)"
   ]
  },
  {
   "cell_type": "code",
   "execution_count": 35,
   "metadata": {},
   "outputs": [],
   "source": [
    "ddp_kwargs = DistributedDataParallelKwargs(find_unused_parameters=True)\n",
    "\n",
    "deepspeed_plugin = DeepSpeedPlugin(hf_ds_config='./ds_config_zero2.json')\n",
    "\n",
    "accelerator = Accelerator(kwargs_handlers=[ddp_kwargs], deepspeed_plugin=deepspeed_plugin)\n"
   ]
  },
  {
   "cell_type": "code",
   "execution_count": 26,
   "metadata": {},
   "outputs": [],
   "source": [
    "import os\n",
    "import numpy as np\n",
    "import pandas as pd\n",
    "from torch.utils.data import Dataset\n",
    "from sklearn.preprocessing import StandardScaler\n",
    "from models import TimeLLM\n",
    "from data_provider.data_factory import data_provider\n",
    "import time"
   ]
  },
  {
   "cell_type": "code",
   "execution_count": 27,
   "metadata": {},
   "outputs": [],
   "source": [
    "import torch"
   ]
  },
  {
   "cell_type": "code",
   "execution_count": 28,
   "metadata": {},
   "outputs": [],
   "source": [
    "class Args:\n",
    "    def __init__(self):\n",
    "        self.task_name = 'long_term_forecast'\n",
    "        self.is_training = 1\n",
    "        self.model_id = 'EAN_512_96'\n",
    "        self.model_comment = 'TimeLLM-EAN'\n",
    "        self.model = 'TimeLLM'\n",
    "        self.seed = 2021\n",
    "        self.data = 'ean'\n",
    "        self.root_path = './dataset'\n",
    "        self.data_path = 'data.csv'\n",
    "        self.features = 'S'\n",
    "        self.target = 'sold_units'\n",
    "        self.loader = 'modal'\n",
    "        self.freq = 'h'\n",
    "        self.checkpoints = './checkpoints/'\n",
    "        self.seq_len = 13\n",
    "        self.label_len = 1\n",
    "        self.pred_len = 1\n",
    "        self.seasonal_patterns = 'Monthly'\n",
    "        self.enc_in = 9\n",
    "        self.dec_in = 9\n",
    "        self.c_out = 9\n",
    "        self.d_model = 32\n",
    "        self.n_heads = 8  # Typically set by your model configuration\n",
    "        self.e_layers = 2  # Typically set by your model configuration\n",
    "        self.d_layers = 1  # Typically set by your model configuration\n",
    "        self.d_ff = 128\n",
    "        self.moving_avg = 25  # Assume default if not specified in the script\n",
    "        self.factor = 3\n",
    "        self.dropout = 0.1  # Assume default if not specified\n",
    "        self.embed = 'timeF'  # Assume default if not specified\n",
    "        self.activation = 'gelu'  # Assume default if not specified\n",
    "        self.output_attention = False  # Assume default if not specified\n",
    "        self.patch_len = 16  # Assume default if not specified\n",
    "        self.stride = 8  # Assume default if not specified\n",
    "        self.prompt_domain = 0  # Assume default if not specified\n",
    "        self.llm_model = 'GPT2'\n",
    "        self.llm_dim = 768\n",
    "        self.num_workers = 10  # Default setting\n",
    "        self.itr = 1\n",
    "        self.train_epochs = 2\n",
    "        self.align_epochs = 10  # Assume default if not specified\n",
    "        self.batch_size = 7\n",
    "        self.eval_batch_size = 8  # Assume default if not specified\n",
    "        self.patience = 10  # Assume default if not specified\n",
    "        self.learning_rate = 0.001\n",
    "        self.des = 'Exp'\n",
    "        self.loss = 'MSE'  # Assume default if not specified\n",
    "        self.lradj = 'type1'  # Assume default if not specified\n",
    "        self.pct_start = 0.2  # Assume default if not specified\n",
    "        self.use_amp = False  # Assume default based on your environment capabilities\n",
    "        self.llm_layers = 32\n",
    "        self.percent = 100  # Assume default if not specified\n",
    "\n",
    "# Instantiate the Args\n",
    "args = Args()"
   ]
  },
  {
   "cell_type": "code",
   "execution_count": 43,
   "metadata": {},
   "outputs": [],
   "source": [
    "path = 'checkpoints/long_term_forecast_EAN_512_96_TimeLLM_ean_ftS_sl13_ll1_pl1_dm32_nh8_el2_dl1_df128_fc3_ebtimeF_Exp_0-TimeLLM-EAN/checkpoint'\n",
    "\n",
    "# Load the checkpoint\n",
    "checkpoint = torch.load(path)"
   ]
  },
  {
   "cell_type": "code",
   "execution_count": 44,
   "metadata": {},
   "outputs": [],
   "source": [
    "model = TimeLLM.Model(args).float()"
   ]
  },
  {
   "cell_type": "code",
   "execution_count": 45,
   "metadata": {},
   "outputs": [
    {
     "data": {
      "text/plain": [
       "<All keys matched successfully>"
      ]
     },
     "execution_count": 45,
     "metadata": {},
     "output_type": "execute_result"
    }
   ],
   "source": [
    "model.load_state_dict(torch.load(path), strict=False)"
   ]
  },
  {
   "cell_type": "code",
   "execution_count": 46,
   "metadata": {},
   "outputs": [
    {
     "data": {
      "text/plain": [
       "Model(\n",
       "  (llm_model): GPT2Model(\n",
       "    (wte): Embedding(50257, 768)\n",
       "    (wpe): Embedding(1024, 768)\n",
       "    (drop): Dropout(p=0.1, inplace=False)\n",
       "    (h): ModuleList(\n",
       "      (0-31): 32 x GPT2Block(\n",
       "        (ln_1): LayerNorm((768,), eps=1e-05, elementwise_affine=True)\n",
       "        (attn): GPT2Attention(\n",
       "          (c_attn): Conv1D()\n",
       "          (c_proj): Conv1D()\n",
       "          (attn_dropout): Dropout(p=0.1, inplace=False)\n",
       "          (resid_dropout): Dropout(p=0.1, inplace=False)\n",
       "        )\n",
       "        (ln_2): LayerNorm((768,), eps=1e-05, elementwise_affine=True)\n",
       "        (mlp): GPT2MLP(\n",
       "          (c_fc): Conv1D()\n",
       "          (c_proj): Conv1D()\n",
       "          (act): NewGELUActivation()\n",
       "          (dropout): Dropout(p=0.1, inplace=False)\n",
       "        )\n",
       "      )\n",
       "    )\n",
       "    (ln_f): LayerNorm((768,), eps=1e-05, elementwise_affine=True)\n",
       "  )\n",
       "  (dropout): Dropout(p=0.1, inplace=False)\n",
       "  (patch_embedding): PatchEmbedding(\n",
       "    (padding_patch_layer): ReplicationPad1d()\n",
       "    (value_embedding): TokenEmbedding(\n",
       "      (tokenConv): Conv1d(16, 32, kernel_size=(3,), stride=(1,), padding=(1,), bias=False, padding_mode=circular)\n",
       "    )\n",
       "    (dropout): Dropout(p=0.1, inplace=False)\n",
       "  )\n",
       "  (mapping_layer): Linear(in_features=50257, out_features=1000, bias=True)\n",
       "  (reprogramming_layer): ReprogrammingLayer(\n",
       "    (query_projection): Linear(in_features=32, out_features=1024, bias=True)\n",
       "    (key_projection): Linear(in_features=768, out_features=1024, bias=True)\n",
       "    (value_projection): Linear(in_features=768, out_features=1024, bias=True)\n",
       "    (out_projection): Linear(in_features=1024, out_features=768, bias=True)\n",
       "    (dropout): Dropout(p=0.1, inplace=False)\n",
       "  )\n",
       "  (output_projection): FlattenHead(\n",
       "    (flatten): Flatten(start_dim=-2, end_dim=-1)\n",
       "    (linear): Linear(in_features=128, out_features=1, bias=True)\n",
       "    (dropout): Dropout(p=0.1, inplace=False)\n",
       "  )\n",
       "  (normalize_layers): Normalize()\n",
       ")"
      ]
     },
     "execution_count": 46,
     "metadata": {},
     "output_type": "execute_result"
    }
   ],
   "source": [
    "# Set the model to evaluation mode\n",
    "\n",
    "model.eval()"
   ]
  },
  {
   "cell_type": "code",
   "execution_count": 47,
   "metadata": {},
   "outputs": [],
   "source": [
    "train_data, train_loader = data_provider(args, 'train')\n",
    "\n",
    "vali_data, vali_loader = data_provider(args, 'val')\n",
    "\n",
    "test_data, test_loader = data_provider(args, 'test')\n",
    "\n",
    "\n",
    "\n",
    "time_now = time.time()\n",
    "\n",
    "\n",
    "\n",
    "train_steps = len(train_loader)\n",
    "\n",
    "early_stopping = EarlyStopping(accelerator=accelerator, patience=args.patience)\n",
    "\n",
    "\n",
    "\n",
    "trained_parameters = []\n",
    "\n",
    "for p in model.parameters():\n",
    "\n",
    "    if p.requires_grad is True:\n",
    "\n",
    "        trained_parameters.append(p)\n",
    "\n",
    "\n",
    "\n",
    "model_optim = optim.Adam(trained_parameters, lr=args.learning_rate)\n",
    "\n",
    "\n",
    "\n",
    "if args.lradj == 'COS':\n",
    "\n",
    "    scheduler = torch.optim.lr_scheduler.CosineAnnealingLR(model_optim, T_max=20, eta_min=1e-8)\n",
    "\n",
    "else:\n",
    "\n",
    "    scheduler = lr_scheduler.OneCycleLR(optimizer=model_optim,\n",
    "\n",
    "                                        steps_per_epoch=train_steps,\n",
    "\n",
    "                                        pct_start=args.pct_start,\n",
    "\n",
    "                                        epochs=args.train_epochs,\n",
    "\n",
    "                                        max_lr=args.learning_rate)\n",
    "\n",
    "\n",
    "\n",
    "train_loader, vali_loader, test_loader, model, model_optim, scheduler = accelerator.prepare(\n",
    "\n",
    "        train_loader, vali_loader, test_loader, model, model_optim, scheduler)"
   ]
  },
  {
   "cell_type": "code",
   "execution_count": 99,
   "metadata": {},
   "outputs": [
    {
     "ename": "AttributeError",
     "evalue": "'list' object has no attribute 'shape'",
     "output_type": "error",
     "traceback": [
      "\u001b[0;31m---------------------------------------------------------------------------\u001b[0m",
      "\u001b[0;31mAttributeError\u001b[0m                            Traceback (most recent call last)",
      "\u001b[1;32m/home/user/Time-LLM/explore_model.ipynb Cell 11\u001b[0m line \u001b[0;36m2\n\u001b[1;32m      <a href='vscode-notebook-cell://80-itg-wkst-wadhah-dahouathi-ew1-pd.cluster-irmp7yabxrbcwwg3sbsvmaa5ew.cloudworkstations.dev/home/user/Time-LLM/explore_model.ipynb#X46sdnNjb2RlLXJlbW90ZQ%3D%3D?line=0'>1</a>\u001b[0m \u001b[39mfor\u001b[39;00m i \u001b[39min\u001b[39;00m test_loader:\n\u001b[0;32m----> <a href='vscode-notebook-cell://80-itg-wkst-wadhah-dahouathi-ew1-pd.cluster-irmp7yabxrbcwwg3sbsvmaa5ew.cloudworkstations.dev/home/user/Time-LLM/explore_model.ipynb#X46sdnNjb2RlLXJlbW90ZQ%3D%3D?line=1'>2</a>\u001b[0m     \u001b[39mprint\u001b[39m(i\u001b[39m.\u001b[39;49mshape)\n",
      "\u001b[0;31mAttributeError\u001b[0m: 'list' object has no attribute 'shape'"
     ]
    }
   ],
   "source": []
  },
  {
   "cell_type": "code",
   "execution_count": 92,
   "metadata": {},
   "outputs": [],
   "source": [
    "from torch.cuda.amp import autocast, GradScaler\n",
    "\n",
    "# Setup scaler for managing precision\n",
    "scaler = GradScaler()\n",
    "predictions = list()\n",
    "true_labels = list()\n",
    "with torch.no_grad():  # No need to compute gradients during inference\n",
    "    for batch_x, batch_y, batch_x_mark, batch_y_mark in test_loader:\n",
    "        batch_x = batch_x.float().to(accelerator.device)\n",
    "        batch_y = batch_y.float().to(accelerator.device)\n",
    "        batch_x_mark = batch_x_mark.float().to(accelerator.device)\n",
    "        batch_y_mark = batch_y_mark.float().to(accelerator.device)\n",
    "\n",
    "        # Prepare decoder input as zeros initially, similar to training phase setup\n",
    "        dec_inp = torch.zeros_like(batch_y[:, -args.pred_len:, :]).to(accelerator.device)\n",
    "        dec_inp = torch.cat([batch_y[:, :args.label_len, :], dec_inp], dim=1)\n",
    "\n",
    "        # Using autocast for automatic mixed precision\n",
    "        with autocast():\n",
    "            if args.output_attention:\n",
    "                output, _ = model(batch_x, batch_x_mark, dec_inp, batch_y_mark)\n",
    "            else:\n",
    "                output = model(batch_x, batch_x_mark, dec_inp, batch_y_mark)\n",
    "\n",
    "            output = output[:, -args.pred_len:, :]  # Adjust based on the output dimensions if needed\n",
    "\n",
    "        predictions.append(output.cpu().numpy())\n",
    "        true_labels.append(batch_y[:, -args.pred_len:, :].cpu().numpy())\n",
    "# Convert list of arrays to a single numpy array\n",
    "predictions = np.concatenate(predictions, axis=0)\n",
    "true_labels = np.concatenate(true_labels, axis=0)\n"
   ]
  },
  {
   "cell_type": "code",
   "execution_count": 93,
   "metadata": {},
   "outputs": [
    {
     "data": {
      "text/plain": [
       "array([[143.],\n",
       "       [238.],\n",
       "       [190.],\n",
       "       [145.],\n",
       "       [126.],\n",
       "       [198.],\n",
       "       [149.]], dtype=float32)"
      ]
     },
     "execution_count": 93,
     "metadata": {},
     "output_type": "execute_result"
    }
   ],
   "source": [
    "true_labels[:,0]\n"
   ]
  },
  {
   "cell_type": "code",
   "execution_count": 82,
   "metadata": {},
   "outputs": [
    {
     "data": {
      "text/plain": [
       "array([190.], dtype=float32)"
      ]
     },
     "execution_count": 82,
     "metadata": {},
     "output_type": "execute_result"
    }
   ],
   "source": [
    "true_labels[0,2,0]"
   ]
  },
  {
   "cell_type": "code",
   "execution_count": 94,
   "metadata": {},
   "outputs": [
    {
     "data": {
      "image/png": "[encoded data removed]",
      "text/plain": [
       "<Figure size 1200x600 with 1 Axes>"
      ]
     },
     "metadata": {},
     "output_type": "display_data"
    }
   ],
   "source": [
    "import matplotlib.pyplot as plt\n",
    "%matplotlib inline\n",
    "# Assuming predictions and true_labels are numpy arrays of the same shape\n",
    "plt.figure(figsize=(12, 6))\n",
    "plt.plot(true_labels[:, 0], label='Actual Data', color='blue')  # Adjust indexing based on your data shape\n",
    "plt.plot(predictions[:, 0], label='Predicted Data', color='red')  # Adjust indexing based on your data shape\n",
    "plt.title('Time Series Forecasting')\n",
    "plt.xlabel('Time Steps')\n",
    "plt.ylabel('Values')\n",
    "plt.legend()\n",
    "plt.show()"
   ]
  },
  {
   "cell_type": "code",
   "execution_count": 85,
   "metadata": {},
   "outputs": [],
   "source": []
  },
  {
   "cell_type": "code",
   "execution_count": null,
   "metadata": {},
   "outputs": [],
   "source": []
  },
  {
   "cell_type": "code",
   "execution_count": null,
   "metadata": {},
   "outputs": [],
   "source": []
  }
 ],
 "metadata": {
  "kernelspec": {
   "display_name": "GPU",
   "language": "python",
   "name": "python3"
  },
  "language_info": {
   "codemirror_mode": {
    "name": "ipython",
    "version": 3
   },
   "file_extension": ".py",
   "mimetype": "text/x-python",
   "name": "python",
   "nbconvert_exporter": "python",
   "pygments_lexer": "ipython3",
   "version": "3.8.19"
  }
 },
 "nbformat": 4,
 "nbformat_minor": 2
}
